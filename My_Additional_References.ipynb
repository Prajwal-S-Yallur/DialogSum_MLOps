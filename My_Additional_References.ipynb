{
 "cells": [
  {
   "cell_type": "markdown",
   "metadata": {},
   "source": [
    "### Data Loader\n",
    "\n",
    "- [How to Load Data from the local CSV files in a Directory](https://huggingface.co/docs/datasets/loading#csv)\n",
    "- [How to Load Data as Train, Test & Validation splits from a CSV files in a Directory](https://huggingface.co/docs/datasets/tabular_load#csv-files)\n",
    "- [To Resolve - ValueError: Invalid pattern: '**' can only be an entire path component](https://stackoverflow.com/questions/77671277/valueerror-invalid-pattern-can-only-be-an-entire-path-component)"
   ]
  },
  {
   "cell_type": "markdown",
   "metadata": {},
   "source": [
    "### Model Training\n",
    "\n",
    "- [Which GPU to use on Kaggle for Training](https://siddhartha01writes.medium.com/gpu-t4-vs-gpu-p100-kaggle-gpu-cd852d56022c)"
   ]
  },
  {
   "cell_type": "markdown",
   "metadata": {},
   "source": [
    "### Model Inferencing\n",
    "\n",
    "- [How to Load HuggingFace Models on GPU](https://stackoverflow.com/questions/72601714/pytorch-nlp-huggingface-model-not-loaded-on-gpu)\n",
    "- [How to load HuggingFace Tokenizers on GPU](https://discuss.huggingface.co/t/is-transformers-using-gpu-by-default/8500)\n",
    "\n",
    "\n",
    "[Additional for Future Reference: How to load on Multiple GPU using \"pipeline\" option](https://github.com/huggingface/transformers/issues/2704)"
   ]
  },
  {
   "cell_type": "markdown",
   "metadata": {},
   "source": [
    "### More Research on Model Training to Fine-Tune and Optimize the Model\n",
    "\n",
    "#### HuggingFace Transformers\n",
    "- [More on transformers.Trainer Class](https://huggingface.co/docs/transformers/main_classes/trainer#api-reference%20][%20transformers.Trainer)\n",
    "- [More on transformers.TrainingArguments](https://huggingface.co/docs/transformers/main_classes/trainer#transformers.TrainingArguments)\n",
    "- [HuggingFace Transformers Example Codes by Official HuggingFace Repo](https://github.com/huggingface/transformers/tree/main/examples)\n",
    "- [HuggingFace Transformers Example Codes for Pytorch Framework by Official HuggingFace Repo](https://github.com/huggingface/transformers/tree/main/examples/pytorch)\n",
    "- [HuggingFace Transformers Example Codes for Pytorch Framework by Official HuggingFace Repo. Specifically for Summarizarion Task](https://github.com/huggingface/transformers/tree/main/examples/pytorch/summarization)\n",
    "\n",
    "#### Refernce for Other Optimizations\n",
    "##### To check the execution time of Model Training and Inferencing\n",
    "- [How to check the execution time of Python Script?](https://www.geeksforgeeks.org/how-to-check-the-execution-time-of-python-script/)"
   ]
  }
 ],
 "metadata": {
  "language_info": {
   "name": "python"
  }
 },
 "nbformat": 4,
 "nbformat_minor": 2
}
