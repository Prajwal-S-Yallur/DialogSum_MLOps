{
 "cells": [
  {
   "cell_type": "markdown",
   "metadata": {},
   "source": [
    "### Data Loader\n",
    "\n",
    "- [How to Load Data from the local CSV files in a Directory](https://huggingface.co/docs/datasets/loading#csv)\n",
    "- [How to Load Data as Train, Test & Validation splits from a CSV files in a Directory](https://huggingface.co/docs/datasets/tabular_load#csv-files)\n",
    "- [To Resolve - ValueError: Invalid pattern: '**' can only be an entire path component](https://stackoverflow.com/questions/77671277/valueerror-invalid-pattern-can-only-be-an-entire-path-component)"
   ]
  },
  {
   "cell_type": "markdown",
   "metadata": {},
   "source": [
    "### Model Training\n",
    "\n",
    "- [Which GPU to use on Kaggle for Training](https://siddhartha01writes.medium.com/gpu-t4-vs-gpu-p100-kaggle-gpu-cd852d56022c)"
   ]
  },
  {
   "cell_type": "markdown",
   "metadata": {},
   "source": [
    "### Model Inferencing\n",
    "\n",
    "- [How to Load HuggingFace Models on GPU](https://stackoverflow.com/questions/72601714/pytorch-nlp-huggingface-model-not-loaded-on-gpu)\n",
    "- [How to load HuggingFace Tokenizers on GPU](https://discuss.huggingface.co/t/is-transformers-using-gpu-by-default/8500)\n",
    "\n",
    "\n",
    "[Additional for Future Reference: How to load on Multiple GPU using \"pipeline\" option](https://github.com/huggingface/transformers/issues/2704)"
   ]
  },
  {
   "cell_type": "markdown",
   "metadata": {},
   "source": [
    "### More Research on Model Training to Fine-Tune and Optimize the Model\n",
    "\n",
    "#### HuggingFace Transformers\n",
    "- [More on transformers.Trainer Class](https://huggingface.co/docs/transformers/main_classes/trainer#api-reference%20][%20transformers.Trainer)\n",
    "- [More on transformers.TrainingArguments](https://huggingface.co/docs/transformers/main_classes/trainer#transformers.TrainingArguments)\n",
    "- [HuggingFace Transformers Example Codes by Official HuggingFace Repo](https://github.com/huggingface/transformers/tree/main/examples)\n",
    "- [HuggingFace Transformers Example Codes for Pytorch Framework by Official HuggingFace Repo](https://github.com/huggingface/transformers/tree/main/examples/pytorch)\n",
    "- [HuggingFace Transformers Example Codes for Pytorch Framework by Official HuggingFace Repo. Specifically for Summarizarion Task](https://github.com/huggingface/transformers/tree/main/examples/pytorch/summarization)\n",
    "\n",
    "#### Refernce for Other Optimizations\n",
    "##### To check the execution time of Model Training and Inferencing\n",
    "- [How to check the execution time of Python Script?](https://www.geeksforgeeks.org/how-to-check-the-execution-time-of-python-script/)"
   ]
  },
  {
   "cell_type": "markdown",
   "metadata": {},
   "source": [
    "### Creating REST API & Docker Image\n",
    "\n",
    "- [Simple Quick Guide on Running a Flask app on Docker](https://synchronizing.medium.com/running-a-simple-flask-application-inside-a-docker-container-b83bf3e07dd5)\n",
    "- [How to make a REST API Call using Python Flask and create a Docker Image and push it to the Docker Hub](https://dev.to/codemaker2015/build-and-deploy-flask-rest-api-on-docker-25mf)\n",
    "- [How to Call a Flask REST API using Python Requests module](https://stackoverflow.com/questions/20461194/conversion-of-curl-to-python-requests)\n",
    "- Use the --no-cache flag with the docker build command. This flag tells Docker to ignore any cached layers during the build process.\n",
    "  - Example: `docker --no-cache build -t flask-rest-api .`\n",
    "- [Port mapping of 8080 for '0.0.0.0' localhost in Flask and Docker & it's Difference](https://stackoverflow.com/questions/66269187/assigning-port-when-building-flask-docker-image)"
   ]
  },
  {
   "cell_type": "markdown",
   "metadata": {},
   "source": [
    "### Streamlit\n",
    "\n",
    "- [Streamlit Commands Cheatsheet](https://cheat-sheet.streamlit.app/)\n",
    "- [File Uploader](https://docs.streamlit.io/library/api-reference/widgets/st.file_uploader)"
   ]
  }
 ],
 "metadata": {
  "language_info": {
   "name": "python"
  }
 },
 "nbformat": 4,
 "nbformat_minor": 2
}
